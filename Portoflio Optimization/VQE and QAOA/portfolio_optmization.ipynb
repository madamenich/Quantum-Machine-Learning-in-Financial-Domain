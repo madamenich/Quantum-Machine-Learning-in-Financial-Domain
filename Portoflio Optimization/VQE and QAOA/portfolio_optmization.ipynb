{
 "cells": [
  {
   "cell_type": "markdown",
   "metadata": {},
   "source": [
    "## Introduction: What is portfolio optimization?\n",
    "Portfolio optimization is a crucial process for anyone who wants to maximize returns from their investments. \n",
    "Investments are usually a collection of so-called assets (stock, credits, bonds, derivatives, calls, puts, etc..) and this collection of assets is called a **portfolio**. \n",
    "<center><img src=\"ex1-01.png\" width=\"270\"></center>\n",
    "The goal of portfolio optimization is to minimize risks (financial loss) and maximize returns (financial gain). But this process is not as simple as it may seem. Gaining high returns with little risk is indeed too good to be true. Risks and returns usually have a trade-off relationship which makes optmizing your portfolio a little more complicated. As Dr. Harry Markowitz states in his Moderbn Portfolio Theory he created in 1952,  \"risk is an inherrent part of higher reward.\""
   ]
  },
  {
   "cell_type": "markdown",
   "metadata": {},
   "source": [
    "## Stock Portfolio Optimization Problem\n",
    "\n",
    "Let us consider a portfolio optimization problem where you have a total of four assets (e.g. STOCK0, STOCK1, STOCK2, STOCK3) to choose from. Your goal is to find out a combination of two assets that will minimize the tradeoff between risk and return which is the same as finding the efficient frontier for the given risk. "
   ]
  },
  {
   "cell_type": "markdown",
   "metadata": {},
   "source": [
    "## Predefined Configuration"
   ]
  },
  {
   "cell_type": "code",
   "execution_count": 18,
   "metadata": {},
   "outputs": [],
   "source": [
    "file_path = 'data/stocks_data.csv'\n",
    "tickers=[\"AAPL\", \"AMZN\", \"GOOG\", \"MSFT\", \"TSLA\"]\n",
    "risk_factor =0.5 #recommend\n",
    "num_assets = len(tickers)\n",
    "budget = num_assets // 2  # set budget"
   ]
  },
  {
   "cell_type": "markdown",
   "metadata": {},
   "source": [
    "## Import Library"
   ]
  },
  {
   "cell_type": "code",
   "execution_count": 19,
   "metadata": {},
   "outputs": [],
   "source": [
    "\n",
    "# import pandas as pd\n",
    "# import numpy as np\n",
    "from helper import pretty_print_result\n",
    "from qameloptimzer import qaoa_optimize, vqe_optimize, classical_optimizer\n",
    "from mean_variance import MeanVarianceModel\n",
    "from qamelpo import PortfolioOptimization"
   ]
  },
  {
   "cell_type": "markdown",
   "metadata": {},
   "source": [
    "### Preprocessing with Mean Variance Model (Problem definition Model of Portfolio Optimization)"
   ]
  },
  {
   "cell_type": "code",
   "execution_count": 20,
   "metadata": {},
   "outputs": [],
   "source": [
    "\n",
    "model = MeanVarianceModel(file_path=file_path, stock_names=tickers)\n",
    "model.load_and_clean_data()\n",
    "model.calculate_daily_returns()  # Calculate daily returns\n",
    "model.calculate_mean_and_covariance()  # Calculate mean and covariance\n",
    "mean_returns = model.get_mean_returns()\n",
    "covariance_matrix = model.get_covariance_matrix()\n",
    "# budget = 1  # Total proportion of investment"
   ]
  },
  {
   "cell_type": "markdown",
   "metadata": {},
   "source": [
    "### Turning Mean Variance into Quadratic Program in order to perform optimization in Quantum"
   ]
  },
  {
   "cell_type": "code",
   "execution_count": 21,
   "metadata": {},
   "outputs": [],
   "source": [
    "\n",
    "\n",
    "portfolio = PortfolioOptimization(\n",
    "    expected_returns=mean_returns,\n",
    "    covariances=covariance_matrix,\n",
    "    risk_factor=risk_factor,\n",
    "    budget=budget,\n",
    "    \n",
    ")"
   ]
  },
  {
   "cell_type": "markdown",
   "metadata": {},
   "source": [
    "# Optmization Section"
   ]
  },
  {
   "cell_type": "code",
   "execution_count": 22,
   "metadata": {},
   "outputs": [
    {
     "name": "stdout",
     "output_type": "stream",
     "text": [
      "Optimal: selection [1. 0. 0. 0. 1.], value -0.0021\n",
      "\n",
      "----------------- Full result ---------------------\n",
      "selection\tvalue\t\tprobability\n",
      "---------------------------------------------------\n",
      "[1 0 0 0 1]\t-0.0021\t\t1.0000\n"
     ]
    }
   ],
   "source": [
    "\n",
    "result = classical_optimizer(portfolio)\n",
    "\n",
    "pretty_print_result(result,portfolio)"
   ]
  },
  {
   "cell_type": "markdown",
   "metadata": {},
   "source": [
    "## Solution using QAOA"
   ]
  },
  {
   "cell_type": "code",
   "execution_count": 23,
   "metadata": {},
   "outputs": [],
   "source": [
    "\n",
    "result = qaoa_optimize(portfolio)\n",
    "pretty_print_result(result,portfolio)"
   ]
  },
  {
   "cell_type": "markdown",
   "metadata": {},
   "source": [
    "## Solution using VQE"
   ]
  },
  {
   "cell_type": "code",
   "execution_count": null,
   "metadata": {},
   "outputs": [
    {
     "name": "stdout",
     "output_type": "stream",
     "text": [
      "Optimal: selection [1. 0. 0. 0. 1.], value -0.0021\n",
      "\n",
      "----------------- Full result ---------------------\n",
      "selection\tvalue\t\tprobability\n",
      "---------------------------------------------------\n",
      "[1 1 0 0 0]\t-0.0002\t\t0.3281\n",
      "[0 0 1 1 0]\t-0.0005\t\t0.1719\n",
      "[1 0 0 1 0]\t-0.0009\t\t0.1484\n",
      "[0 1 0 1 0]\t-0.0000\t\t0.1309\n",
      "[1 0 1 0 0]\t-0.0007\t\t0.0850\n",
      "[0 1 1 0 0]\t0.0002\t\t0.0713\n",
      "[1 0 0 0 0]\t-0.0008\t\t0.0098\n",
      "[1 0 1 1 0]\t-0.0005\t\t0.0098\n",
      "[1 1 0 0 1]\t-0.0011\t\t0.0068\n",
      "[0 0 0 1 1]\t-0.0020\t\t0.0059\n",
      "[0 0 0 0 0]\t0.0000\t\t0.0049\n",
      "[1 1 0 1 0]\t0.0000\t\t0.0049\n",
      "[0 1 1 1 1]\t-0.0001\t\t0.0049\n",
      "[0 1 1 1 0]\t0.0004\t\t0.0049\n",
      "[1 0 0 0 1]\t-0.0021\t\t0.0029\n",
      "[0 0 0 1 0]\t-0.0006\t\t0.0029\n",
      "[1 0 1 0 1]\t-0.0017\t\t0.0020\n",
      "[1 0 0 1 1]\t-0.0018\t\t0.0020\n",
      "[1 1 0 1 1]\t-0.0003\t\t0.0020\n",
      "[0 0 1 0 1]\t-0.0018\t\t0.0010\n"
     ]
    }
   ],
   "source": [
    "result = vqe_optimize(portfolio)\n",
    "pretty_print_result(result,portfolio)"
   ]
  }
 ],
 "metadata": {
  "kernelspec": {
   "display_name": "virenv",
   "language": "python",
   "name": "python3"
  },
  "language_info": {
   "codemirror_mode": {
    "name": "ipython",
    "version": 3
   },
   "file_extension": ".py",
   "mimetype": "text/x-python",
   "name": "python",
   "nbconvert_exporter": "python",
   "pygments_lexer": "ipython3",
   "version": "3.11.7"
  }
 },
 "nbformat": 4,
 "nbformat_minor": 2
}
